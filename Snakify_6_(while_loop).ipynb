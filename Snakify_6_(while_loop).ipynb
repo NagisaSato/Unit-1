{
  "nbformat": 4,
  "nbformat_minor": 0,
  "metadata": {
    "colab": {
      "name": "Snakify #6 (while loop)",
      "provenance": []
    },
    "kernelspec": {
      "name": "python3",
      "display_name": "Python 3"
    },
    "language_info": {
      "name": "python"
    }
  },
  "cells": [
    {
      "cell_type": "markdown",
      "metadata": {
        "id": "no5YXir3sSQr"
      },
      "source": [
        "##1. List of squares\n",
        "For a given integer N, print all the squares of integer numbers where the square is less than or equal to N, in ascending order."
      ]
    },
    {
      "cell_type": "code",
      "metadata": {
        "id": "J9bzzWcKsJk4"
      },
      "source": [
        "N = int(input())\n",
        "a = 1\n",
        "for i in range(1, N+1):\n",
        "    if a**2<=N:\n",
        "        print(a**2)\n",
        "        a += 1"
      ],
      "execution_count": null,
      "outputs": []
    },
    {
      "cell_type": "markdown",
      "metadata": {
        "id": "EWzE7uVNsZ9l"
      },
      "source": [
        "##2. Least divisor\n",
        "Given an integer not less than 2. Print its smallest integer divisor greater than 1."
      ]
    },
    {
      "cell_type": "code",
      "metadata": {
        "id": "UQff_UEusfAB"
      },
      "source": [
        "n = int(input())\n",
        "for i in range (2, n+1):\n",
        "    if n % i == 0:\n",
        "        print (i)\n",
        "        break \n"
      ],
      "execution_count": null,
      "outputs": []
    },
    {
      "cell_type": "markdown",
      "metadata": {
        "id": "CtyUpCPYshSO"
      },
      "source": [
        "##3. The power of two\n",
        "For a given integer N, find the greatest integer x where 2x is less than or equal to N. Print the exponent value and the result of the expression 2x.\n",
        "Don't use the operation **."
      ]
    },
    {
      "cell_type": "code",
      "metadata": {
        "id": "BsC57Ir2sl0U"
      },
      "source": [
        "N = int(input())\n",
        "a = 1\n",
        "for i in range (1, N+1):\n",
        "    if 2**a <= N:\n",
        "        a += 1\n",
        "    else:\n",
        "        b = a - 1\n",
        "        print (b)\n",
        "        print (2**b)\n",
        "        break"
      ],
      "execution_count": null,
      "outputs": []
    },
    {
      "cell_type": "markdown",
      "metadata": {
        "id": "1Zg_gz1Jsn2B"
      },
      "source": [
        "##4. Morning jog\n",
        "As a future athlete you just started your practice for an upcoming event. Given that on the first day you run x miles, and by the event you must be able to run y miles.\n",
        "Calculate the number of days required for you to finally reach the required distance for the event, if you increases your distance each day by 10% from the previous day.\n",
        "\n",
        "Print one integer representing the number of days to reach the required distance."
      ]
    },
    {
      "cell_type": "code",
      "metadata": {
        "id": "EjCMLNCCssnK"
      },
      "source": [
        "start = int(input())\n",
        "goal = int(input())\n",
        "days = 1\n",
        "for i in range (1, goal+1):\n",
        "    if start < goal:\n",
        "        start *= 1.1\n",
        "        days += 1\n",
        "    else:\n",
        "        print(days)\n",
        "        break"
      ],
      "execution_count": null,
      "outputs": []
    },
    {
      "cell_type": "markdown",
      "metadata": {
        "id": "YRlYPz62swwW"
      },
      "source": [
        "##9. The index of the maximum of a sequence\n",
        "A sequence consists of integer numbers and ends with the number 0. Determine the index of the largest element of the sequence. If the highest element is not unique, print the index of the first of them."
      ]
    },
    {
      "cell_type": "code",
      "metadata": {
        "id": "BOxLpfaHs3vy"
      },
      "source": [
        "seq=int(input())\n",
        "max = 0\n",
        "indx_max = -1\n",
        "current_indx = 1\n",
        "while seq!=0:\n",
        "    if seq>max:\n",
        "        max = seq\n",
        "        indx_max = current_indx\n",
        "    current_indx = current_indx+1\n",
        "    seq=int(input())\n",
        "    \n",
        "print(indx_max)"
      ],
      "execution_count": null,
      "outputs": []
    }
  ]
}