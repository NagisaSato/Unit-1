{
  "nbformat": 4,
  "nbformat_minor": 0,
  "metadata": {
    "colab": {
      "name": "daliy quiz",
      "provenance": [],
      "authorship_tag": "ABX9TyOeHE53Td7+YTPMKR/R8AX0",
      "include_colab_link": true
    },
    "kernelspec": {
      "name": "python3",
      "display_name": "Python 3"
    },
    "language_info": {
      "name": "python"
    }
  },
  "cells": [
    {
      "cell_type": "markdown",
      "metadata": {
        "id": "view-in-github",
        "colab_type": "text"
      },
      "source": [
        "<a href=\"https://colab.research.google.com/github/NagisaSato/Unit-1/blob/main/daliy_quiz.ipynb\" target=\"_parent\"><img src=\"https://colab.research.google.com/assets/colab-badge.svg\" alt=\"Open In Colab\"/></a>"
      ]
    },
    {
      "cell_type": "markdown",
      "metadata": {
        "id": "02snjgtRL1rh"
      },
      "source": [
        "##quiz_001##"
      ]
    },
    {
      "cell_type": "code",
      "metadata": {
        "id": "iOnV8mQzLyz3"
      },
      "source": [
        "def makes20(A,B):\n",
        "  if A== 20 or B == 20:\n",
        "    n = 'true'\n",
        "  else: \n",
        "    if A + B == 20:\n",
        "      n = 'true'\n",
        "    else:\n",
        "      n = \"false\"\n",
        "    return n\n",
        "\n",
        "  a = makes20(5,15)\n",
        "  print(a)\n",
        "  \n"
      ],
      "execution_count": 3,
      "outputs": []
    },
    {
      "cell_type": "markdown",
      "metadata": {
        "id": "U16sy6fHMZbk"
      },
      "source": [
        "##quiz_002"
      ]
    },
    {
      "cell_type": "code",
      "metadata": {
        "id": "-Uigp_vTMZHO"
      },
      "source": [
        ""
      ],
      "execution_count": null,
      "outputs": []
    }
  ]
}