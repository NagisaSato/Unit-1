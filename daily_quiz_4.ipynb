{
  "nbformat": 4,
  "nbformat_minor": 0,
  "metadata": {
    "colab": {
      "name": "daily_quiz_4.ipynb",
      "provenance": [],
      "authorship_tag": "ABX9TyOHznIOliFk1XmcJlpEufh5",
      "include_colab_link": true
    },
    "kernelspec": {
      "name": "python3",
      "display_name": "Python 3"
    },
    "language_info": {
      "name": "python"
    }
  },
  "cells": [
    {
      "cell_type": "markdown",
      "metadata": {
        "id": "view-in-github",
        "colab_type": "text"
      },
      "source": [
        "<a href=\"https://colab.research.google.com/github/NagisaSato/Unit-1/blob/main/daily_quiz_4.ipynb\" target=\"_parent\"><img src=\"https://colab.research.google.com/assets/colab-badge.svg\" alt=\"Open In Colab\"/></a>"
      ]
    },
    {
      "cell_type": "code",
      "metadata": {
        "colab": {
          "base_uri": "https://localhost:8080/"
        },
        "id": "DL3UD7M-Mgj0",
        "outputId": "393c3395-4cc2-4689-e90c-f32719db7d3e"
      },
      "source": [
        "factors = []\n",
        "\n",
        "def perfectN(n):\n",
        "  for i in range (1,n-1):\n",
        "    if n % i == 0:\n",
        "      factors.append(i)\n",
        "  return(factors)\n",
        "\n",
        "\n",
        "perfectN(6)"
      ],
      "execution_count": 11,
      "outputs": [
        {
          "output_type": "execute_result",
          "data": {
            "text/plain": [
              "[1, 2, 3]"
            ]
          },
          "metadata": {},
          "execution_count": 11
        }
      ]
    }
  ]
}