{
  "nbformat": 4,
  "nbformat_minor": 0,
  "metadata": {
    "colab": {
      "name": "reijis_mystery_box.ipynb",
      "provenance": [],
      "authorship_tag": "ABX9TyMK3aVYzO+kPppW5MJtktgx",
      "include_colab_link": true
    },
    "kernelspec": {
      "name": "python3",
      "display_name": "Python 3"
    },
    "language_info": {
      "name": "python"
    }
  },
  "cells": [
    {
      "cell_type": "markdown",
      "metadata": {
        "id": "view-in-github",
        "colab_type": "text"
      },
      "source": [
        "<a href=\"https://colab.research.google.com/github/NagisaSato/Unit-1/blob/main/reijis_mystery_box.ipynb\" target=\"_parent\"><img src=\"https://colab.research.google.com/assets/colab-badge.svg\" alt=\"Open In Colab\"/></a>"
      ]
    },
    {
      "cell_type": "code",
      "metadata": {
        "colab": {
          "base_uri": "https://localhost:8080/"
        },
        "id": "JGztTLD-cKUf",
        "outputId": "45b34db8-785f-4916-93fc-9761a9011bb9"
      },
      "source": [
        "def mystery_box2(num):\n",
        "    z=1\n",
        "    x=1\n",
        "    for i in range (num):\n",
        "        z*=x\n",
        "        x+=1\n",
        "    return z\n",
        "output2=mystery_box2(5)\n",
        "print(output2)"
      ],
      "execution_count": 1,
      "outputs": [
        {
          "output_type": "stream",
          "name": "stdout",
          "text": [
            "120\n"
          ]
        }
      ]
    }
  ]
}