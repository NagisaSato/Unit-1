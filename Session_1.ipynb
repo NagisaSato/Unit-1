{
  "nbformat": 4,
  "nbformat_minor": 0,
  "metadata": {
    "colab": {
      "name": "Session#1",
      "provenance": [],
      "authorship_tag": "ABX9TyNxRTbc1LVn+BocYc3toOhA",
      "include_colab_link": true
    },
    "kernelspec": {
      "name": "python3",
      "display_name": "Python 3"
    },
    "language_info": {
      "name": "python"
    }
  },
  "cells": [
    {
      "cell_type": "markdown",
      "metadata": {
        "id": "view-in-github",
        "colab_type": "text"
      },
      "source": [
        "<a href=\"https://colab.research.google.com/github/NagisaSato/Unit-1/blob/main/Session_1.ipynb\" target=\"_parent\"><img src=\"https://colab.research.google.com/assets/colab-badge.svg\" alt=\"Open In Colab\"/></a>"
      ]
    },
    {
      "cell_type": "markdown",
      "metadata": {
        "id": "anObpQ3RskQZ"
      },
      "source": [
        "# First session with colab"
      ]
    },
    {
      "cell_type": "markdown",
      "metadata": {
        "id": "6m3Jpq19vpSp"
      },
      "source": [
        "**Programming exercises**\n",
        "\n",
        "\n"
      ]
    },
    {
      "cell_type": "markdown",
      "metadata": {
        "id": "FhbVX_F8v7u0"
      },
      "source": [
        "1. write a program that calculates the addition of all integer numbers from 0 to 2021.\n",
        "a) using arithmetic sequence: sum = 1/2*n(1+n)"
      ]
    },
    {
      "cell_type": "code",
      "metadata": {
        "colab": {
          "base_uri": "https://localhost:8080/"
        },
        "id": "PqUGfhbnwCug",
        "outputId": "5a5e0a9b-9000-4c72-9b96-d5916f58eecd"
      },
      "source": [
        "start_num = 0\n",
        "end_num = 2021\n",
        "\n",
        "n = end_num - start_num\n",
        "\n",
        "#calculate the addition\n",
        "result = n*(n + 1)/2\n",
        "\n",
        "print(\"The addition of intergers from\",start_num,\" to \", end_num, \" is \", result)"
      ],
      "execution_count": null,
      "outputs": [
        {
          "output_type": "stream",
          "text": [
            "The addition of intergers from 0  to  2021  is  2043231.0\n"
          ],
          "name": "stdout"
        }
      ]
    },
    {
      "cell_type": "code",
      "metadata": {
        "id": "0mRLmuGrxwRs"
      },
      "source": [
        "#printing using f-strings\n",
        "print(f\"The addition of intergers from {start_num} to {end_num}"
      ],
      "execution_count": null,
      "outputs": []
    },
    {
      "cell_type": "markdown",
      "metadata": {
        "id": "NqyLHyOUyZwK"
      },
      "source": [
        "2. Write a program that calculates the value of y when the user enters a integer x"
      ]
    },
    {
      "cell_type": "code",
      "metadata": {
        "colab": {
          "base_uri": "https://localhost:8080/"
        },
        "id": "5lCsEoSSyhS_",
        "outputId": "ffa19bbb-47ad-4fb9-e6f8-a0c6ee42c561"
      },
      "source": [
        "x= int(input(\"enter value x:\"))\n",
        "y = 2*(x+3)-3\n",
        "print (\"The value of y is\", y)"
      ],
      "execution_count": null,
      "outputs": [
        {
          "output_type": "stream",
          "text": [
            "enter value x:19\n",
            "The value of y is  41\n"
          ],
          "name": "stdout"
        }
      ]
    },
    {
      "cell_type": "markdown",
      "metadata": {
        "id": "X77C6JqI0URB"
      },
      "source": [
        "3. Write a program that asks the user for his name and grade and outputs the user's email address at UWC ISAk:\n",
        "input:\n",
        "name = john doe\n",
        "grade = 10\n",
        "output:\n",
        " 2024.john.doe@uwcisak.jp"
      ]
    },
    {
      "cell_type": "code",
      "metadata": {
        "colab": {
          "base_uri": "https://localhost:8080/"
        },
        "id": "GG18izY-0dla",
        "outputId": "0d532541-0c70-4ce2-eb7e-18303a9f66e4"
      },
      "source": [
        "first_name = input(\"enter your first name: \")\n",
        "last_name = input(\"enter your last name: \")\n",
        "grade = int(input(\"enter your grade\"))\n",
        "year = 2034 - grade\n",
        "print (f\"your email is {year}.{first_name}.{last_name}@uwcisak.jp\")\n",
        "\n"
      ],
      "execution_count": null,
      "outputs": [
        {
          "output_type": "stream",
          "text": [
            "enter your first namejohn\n",
            "enter your last namedoe\n",
            "enter your grade10\n",
            "your email is 2024.john.doe@uwcisak.jp\n"
          ],
          "name": "stdout"
        }
      ]
    },
    {
      "cell_type": "markdown",
      "metadata": {
        "id": "lrKViegk2ti6"
      },
      "source": [
        "4. Write a program that converts a temperature from Fahrenheit to Celcius.\n",
        "formula: $$C=5/9(F-32)$$"
      ]
    },
    {
      "cell_type": "code",
      "metadata": {
        "colab": {
          "base_uri": "https://localhost:8080/"
        },
        "id": "sxHFRI6L23Ks",
        "outputId": "7c99c6f4-af7c-4728-fc25-2f43d02843d9"
      },
      "source": [
        "F = int(input(\"enter temperature in fahrenheit:\"))\n",
        "C = (5/9)*(F - 32)\n",
        "print (f\"the temperature in celcius is: {C} degrees\")\n",
        "\n"
      ],
      "execution_count": null,
      "outputs": [
        {
          "output_type": "stream",
          "text": [
            "enter temperature in fahrenheit:66\n",
            "the temperature in celcius is: 18.88888888888889 degrees\n"
          ],
          "name": "stdout"
        }
      ]
    },
    {
      "cell_type": "markdown",
      "metadata": {
        "id": "wv5oxbLV8oPV"
      },
      "source": [
        "5. Write a program to conver from miles to kilometers\n",
        "$$miles = 1.609*km$$"
      ]
    },
    {
      "cell_type": "code",
      "metadata": {
        "colab": {
          "base_uri": "https://localhost:8080/"
        },
        "id": "BU394mEk9HNr",
        "outputId": "ea3bb580-1609-4250-d678-023ce086bb71"
      },
      "source": [
        "M = int(input(\"enter the distance in miles:\"))\n",
        "km = M*(1/1.609)\n",
        "print (f\"the distance in km is: {km}\")\n"
      ],
      "execution_count": null,
      "outputs": [
        {
          "output_type": "stream",
          "text": [
            "enter the distance in miles:76\n",
            "the distance in km is: 47.23430702299565\n"
          ],
          "name": "stdout"
        }
      ]
    },
    {
      "cell_type": "markdown",
      "metadata": {
        "id": "bDqotahk-Fl8"
      },
      "source": [
        "[リンクテキスト](https://)6. write a program that solves the quadratic equation for valid inouts a, b, c\n",
        "$$x = (-b±√(b²-4ac))/(2a)$$"
      ]
    },
    {
      "cell_type": "code",
      "metadata": {
        "colab": {
          "base_uri": "https://localhost:8080/",
          "height": 130
        },
        "id": "LvDCjWyNDEQb",
        "outputId": "38281420-3c64-4172-8b8a-a8b86e9f8c35"
      },
      "source": [
        "a = int(input(\"enter value of a:\"))\n",
        "b = int(input(\"enter value of b:\"))\n",
        "c = int(input(\"enter value of c:\"))\n",
        "print(f\"Solving the quadratic equation; {a}x^2+{b}x+{c}\")\n",
        "x = (-b±√(b²-4ac))/(2a)\n",
        "\n",
        "print(f\"the answer is {x}\")\n"
      ],
      "execution_count": null,
      "outputs": [
        {
          "output_type": "error",
          "ename": "SyntaxError",
          "evalue": "ignored",
          "traceback": [
            "\u001b[0;36m  File \u001b[0;32m\"<ipython-input-1-be19548eff07>\"\u001b[0;36m, line \u001b[0;32m5\u001b[0m\n\u001b[0;31m    x = (-b±√(b²-4ac))/(2a)\u001b[0m\n\u001b[0m            ^\u001b[0m\n\u001b[0;31mSyntaxError\u001b[0m\u001b[0;31m:\u001b[0m invalid character in identifier\n"
          ]
        }
      ]
    },
    {
      "cell_type": "markdown",
      "metadata": {
        "id": "wWjW66MQ_U2P"
      },
      "source": [
        "7. write program to reverse a number entered by the user, ex. inout123, output 321"
      ]
    },
    {
      "cell_type": "code",
      "metadata": {
        "colab": {
          "base_uri": "https://localhost:8080/"
        },
        "id": "GlzJGXeF_duz",
        "outputId": "7d03dcb4-edd1-49ec-d4c7-aa786dbec94a"
      },
      "source": [
        "noun = \"animal\"\n",
        "#indexing to get the first letter. remember we start counting at 0\n",
        "print(noun[0])\n",
        "\n",
        "#print the last letter in the string\n",
        "print(noun[5])\n",
        "print(noun[-1])\n",
        "\n",
        "# get a part of substring [start:end:step] end is not included\n",
        "print(noun[0:-1:2])\n",
        "\n",
        "#reverse the word using indexing\n",
        "print(\"reversing\", noun[-1:1:-1])\n",
        "\n",
        "age = 50\n",
        "str_age = str(age) #converting number to string\n",
        "print(str_age[1],str_age[0])"
      ],
      "execution_count": null,
      "outputs": [
        {
          "output_type": "stream",
          "text": [
            "a\n",
            "l\n",
            "l\n",
            "aia\n",
            "reversing lami\n",
            "0 5\n"
          ],
          "name": "stdout"
        }
      ]
    },
    {
      "cell_type": "markdown",
      "metadata": {
        "id": "KNz7rwgG_OT7"
      },
      "source": [
        "8. write a program that asks the user for their name, age, nationality and produces a greeting message such as \"welcome John doe you are 30 years old and a national of columbia\""
      ]
    },
    {
      "cell_type": "code",
      "metadata": {
        "colab": {
          "base_uri": "https://localhost:8080/"
        },
        "id": "C4n0CAFiEaQF",
        "outputId": "2a69fad8-481f-40c6-b2fd-b7dc27dd8b6d"
      },
      "source": [
        "name = input(\"enter you name:\")\n",
        "age = int(input(\"enter your age:\"))\n",
        "nationality = input(\"enter your nationality\")\n",
        "print(f\"Welcome {name}, you are {age} years old and a national of {nationality}.\")\n"
      ],
      "execution_count": null,
      "outputs": [
        {
          "output_type": "stream",
          "text": [
            "enter you name:john\n",
            "enter your age:30\n",
            "enter your nationalitycolumbia\n",
            "Welcome john, you are 30 years old and a national of columbia\n"
          ],
          "name": "stdout"
        }
      ]
    },
    {
      "cell_type": "markdown",
      "metadata": {
        "id": "xkpkqVN3G7a1"
      },
      "source": [
        "9. create a program that converts between units\n",
        "pounds to kilograms\n",
        "$$kg = pounds*(1/2.2046)$$\n"
      ]
    },
    {
      "cell_type": "code",
      "metadata": {
        "colab": {
          "base_uri": "https://localhost:8080/"
        },
        "id": "Rma9lvaVFIf5",
        "outputId": "d4439d3e-e793-4baf-bdc1-57400b30ecfa"
      },
      "source": [
        "pounds = int(input(\"enter mass in pounds:\"))\n",
        "kg = pounds*(1/2.2046)\n",
        "print(f\"the mass in kilograms is {kg}kg\")"
      ],
      "execution_count": null,
      "outputs": [
        {
          "output_type": "stream",
          "text": [
            "enter mass in pounds:65\n",
            "the mass in kilograms is 29.483806586228795kg\n"
          ],
          "name": "stdout"
        }
      ]
    }
  ]
}