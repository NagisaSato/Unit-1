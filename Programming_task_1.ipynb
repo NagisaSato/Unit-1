{
  "nbformat": 4,
  "nbformat_minor": 0,
  "metadata": {
    "colab": {
      "name": "Programming task_1",
      "provenance": [],
      "authorship_tag": "ABX9TyMX12nDhp4FT15MhhoL75XO",
      "include_colab_link": true
    },
    "kernelspec": {
      "name": "python3",
      "display_name": "Python 3"
    },
    "language_info": {
      "name": "python"
    }
  },
  "cells": [
    {
      "cell_type": "markdown",
      "metadata": {
        "id": "view-in-github",
        "colab_type": "text"
      },
      "source": [
        "<a href=\"https://colab.research.google.com/github/NagisaSato/Unit-1/blob/main/Programming_task_1.ipynb\" target=\"_parent\"><img src=\"https://colab.research.google.com/assets/colab-badge.svg\" alt=\"Open In Colab\"/></a>"
      ]
    },
    {
      "cell_type": "markdown",
      "metadata": {
        "id": "3xr5YYRQYcXu"
      },
      "source": [
        "Programming Task 1: Create a file in your repository with name programming_task_1.md and include the solution to the problem below:\n",
        "Ask the user for  2 numbers, A and B, Output TRUE if one of them is 10 or if their sum is 10.\n",
        "\n",
        "Examples\n",
        "Makes10(9, 10) → TRUE\n",
        "Makes10(9, 9) → FALSE\n",
        "Makes10(1, 9) → TRUE\n",
        "\n"
      ]
    },
    {
      "cell_type": "code",
      "metadata": {
        "colab": {
          "base_uri": "https://localhost:8080/"
        },
        "id": "bsIJq23OYaUY",
        "outputId": "819e9609-903c-4266-f1b0-b44ed3c2fd7d"
      },
      "source": [
        "a = int(input(\"Enter first number:\"))\n",
        "b = int(input(\"Enter second number:\"))\n",
        "\n",
        "def task_1(a,b):\n",
        "  if a ==10 or b == 10 or a + b == 10:\n",
        "    print(\"True\")\n",
        "  else:\n",
        "    print(\"False\")\n",
        "  \n",
        "task_1(a,b)\n",
        "\n",
        "\n",
        "\n",
        "\n"
      ],
      "execution_count": 9,
      "outputs": [
        {
          "output_type": "stream",
          "name": "stdout",
          "text": [
            "Enter first number:4\n",
            "Enter second number:2\n",
            "False\n"
          ]
        }
      ]
    }
  ]
}