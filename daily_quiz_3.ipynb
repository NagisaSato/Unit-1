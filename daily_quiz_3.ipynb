{
  "nbformat": 4,
  "nbformat_minor": 0,
  "metadata": {
    "colab": {
      "name": "daily_quiz_3.ipynb",
      "provenance": [],
      "authorship_tag": "ABX9TyN8iCMetQuBbkLdZH3kZaic",
      "include_colab_link": true
    },
    "kernelspec": {
      "name": "python3",
      "display_name": "Python 3"
    },
    "language_info": {
      "name": "python"
    }
  },
  "cells": [
    {
      "cell_type": "markdown",
      "metadata": {
        "id": "view-in-github",
        "colab_type": "text"
      },
      "source": [
        "<a href=\"https://colab.research.google.com/github/NagisaSato/Unit-1/blob/main/daily_quiz_3.ipynb\" target=\"_parent\"><img src=\"https://colab.research.google.com/assets/colab-badge.svg\" alt=\"Open In Colab\"/></a>"
      ]
    },
    {
      "cell_type": "code",
      "metadata": {
        "id": "PJ9SrWTArrFi",
        "colab": {
          "base_uri": "https://localhost:8080/"
        },
        "outputId": "b669b3e8-693d-4377-d10f-fd48f3efc8b5"
      },
      "source": [
        "def rangePattern(n):\n",
        "  result = \"\"\n",
        "  counter = 0\n",
        "  for i in range (100):\n",
        "    if counter == n-1:\n",
        "      counter = 0\n",
        "    else:\n",
        "      counter += 1\n",
        "    result += str(i % n) + \",\"\n",
        "  return result \n",
        "\n",
        "\n",
        "x=rangePattern(3)\n",
        "print(x)\n",
        "\n",
        "print()\n",
        "\n",
        "y=rangePattern(5)\n",
        "print(y)\n",
        "\n",
        "\n",
        "\n",
        "\n",
        "\n",
        "\n"
      ],
      "execution_count": 20,
      "outputs": [
        {
          "output_type": "stream",
          "name": "stdout",
          "text": [
            "0,1,2,0,1,2,0,1,2,0,1,2,0,1,2,0,1,2,0,1,2,0,1,2,0,1,2,0,1,2,0,1,2,0,1,2,0,1,2,0,1,2,0,1,2,0,1,2,0,1,2,0,1,2,0,1,2,0,1,2,0,1,2,0,1,2,0,1,2,0,1,2,0,1,2,0,1,2,0,1,2,0,1,2,0,1,2,0,1,2,0,1,2,0,1,2,0,1,2,0,\n",
            "\n",
            "0,1,2,3,4,0,1,2,3,4,0,1,2,3,4,0,1,2,3,4,0,1,2,3,4,0,1,2,3,4,0,1,2,3,4,0,1,2,3,4,0,1,2,3,4,0,1,2,3,4,0,1,2,3,4,0,1,2,3,4,0,1,2,3,4,0,1,2,3,4,0,1,2,3,4,0,1,2,3,4,0,1,2,3,4,0,1,2,3,4,0,1,2,3,4,0,1,2,3,4,\n"
          ]
        }
      ]
    }
  ]
}