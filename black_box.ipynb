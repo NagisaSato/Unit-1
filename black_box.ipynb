{
  "nbformat": 4,
  "nbformat_minor": 0,
  "metadata": {
    "colab": {
      "name": "black_box",
      "provenance": [],
      "authorship_tag": "ABX9TyN8q2dblmpXQDxfzTuKpTOI",
      "include_colab_link": true
    },
    "kernelspec": {
      "name": "python3",
      "display_name": "Python 3"
    },
    "language_info": {
      "name": "python"
    }
  },
  "cells": [
    {
      "cell_type": "markdown",
      "metadata": {
        "id": "view-in-github",
        "colab_type": "text"
      },
      "source": [
        "<a href=\"https://colab.research.google.com/github/NagisaSato/Unit-1/blob/main/black_box.ipynb\" target=\"_parent\"><img src=\"https://colab.research.google.com/assets/colab-badge.svg\" alt=\"Open In Colab\"/></a>"
      ]
    },
    {
      "cell_type": "code",
      "metadata": {
        "colab": {
          "base_uri": "https://localhost:8080/"
        },
        "id": "HVFVYvgVQuRN",
        "outputId": "ca0713cf-f9d1-4447-bb53-6800922ad3ab"
      },
      "source": [
        "def black_box(a,b):\n",
        "  if a < b:\n",
        "    n = a\n",
        "  else:\n",
        "    n = b\n",
        "  return n\n",
        "\n",
        "p = black_box(\"A\",\"B\")\n",
        "print(p)\n",
        "\n",
        "\n",
        "\n"
      ],
      "execution_count": null,
      "outputs": [
        {
          "output_type": "stream",
          "name": "stdout",
          "text": [
            "A\n"
          ]
        }
      ]
    }
  ]
}