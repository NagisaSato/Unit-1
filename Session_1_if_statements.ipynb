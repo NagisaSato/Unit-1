{
  "nbformat": 4,
  "nbformat_minor": 0,
  "metadata": {
    "colab": {
      "name": "Session#1_if statements",
      "provenance": [],
      "authorship_tag": "ABX9TyNXGcz29rAKe16I7T8EJKDO",
      "include_colab_link": true
    },
    "kernelspec": {
      "name": "python3",
      "display_name": "Python 3"
    },
    "language_info": {
      "name": "python"
    }
  },
  "cells": [
    {
      "cell_type": "markdown",
      "metadata": {
        "id": "view-in-github",
        "colab_type": "text"
      },
      "source": [
        "<a href=\"https://colab.research.google.com/github/NagisaSato/Unit-1/blob/main/Session_1_if_statements.ipynb\" target=\"_parent\"><img src=\"https://colab.research.google.com/assets/colab-badge.svg\" alt=\"Open In Colab\"/></a>"
      ]
    },
    {
      "cell_type": "markdown",
      "metadata": {
        "id": "9b1Qyyx5g_aW"
      },
      "source": [
        "6. write a program that solves the quadratic equation for valid inouts a, b, c\n",
        "$$x = (-b±√(b²-4ac))/(2a)$$\n",
        "$$x_{1,2} = \\frac{-b \\pm \\sqrt{b^2 - 4ac} }{2a}$$\n",
        "\n",
        "We get real solutions when \"if $b^2-4ac$ is more than zero\"\n"
      ]
    },
    {
      "cell_type": "code",
      "metadata": {
        "colab": {
          "base_uri": "https://localhost:8080/"
        },
        "id": "FPcVQdIMgHGG",
        "outputId": "2e36ac0b-7a53-4fc4-eee2-ff54a75f8f79"
      },
      "source": [
        "# solve the quadracitc equation: this is called a header comment\n",
        "a = int(input(\"enter the value for a: \"))\n",
        "b = int(input(\"enter the value for b: \"))\n",
        "c = int(input(\"enter the value for c: \"))\n",
        "\n",
        "condition = b**2 - 4*a*c\n",
        "#check that we can calculate the solution to the quadratic equation\n",
        "if condition >= 0:\n",
        "  #we can calculate the solution\n",
        "  x1 = (-b + condition**(1/2))/2*a\n",
        "  x2 = (-b - condition**(1/2))/2*a\n",
        "\n",
        "#show the resultss if the condition was true, otherwise show an error\n",
        "if condition<0:\n",
        "  print(\"[ERROR] The solution is imaginary\")\n",
        "else: \n",
        "  print(f\"The solutions are {x1} and {x2}\")\n",
        "\n",
        "\n"
      ],
      "execution_count": null,
      "outputs": [
        {
          "output_type": "stream",
          "text": [
            "enter the value for a: -2\n",
            "enter the value for b: 3\n",
            "enter the value for c: 3\n",
            "The solutions are -2.7445626465380286 and 8.744562646538029\n"
          ],
          "name": "stdout"
        }
      ]
    },
    {
      "cell_type": "markdown",
      "metadata": {
        "id": "rX7vEd-tlWW7"
      },
      "source": [
        "① Create a program that organizes from largest to smallest three heights in cms entered by the user."
      ]
    },
    {
      "cell_type": "code",
      "metadata": {
        "colab": {
          "base_uri": "https://localhost:8080/"
        },
        "id": "KQF5ZBMqlbmb",
        "outputId": "32bf7ec9-dfc3-4266-b3cb-c9722d4889f1"
      },
      "source": [
        "height_1 = int(input(\"Enter first height in cm: \"))\n",
        "height_2 = int(input(\"Enter second height in cm: \"))\n",
        "height_3 = int(input(\"Enter third height in cm: \"))\n",
        "\n",
        "condition_1 = height_1 - height_2 \n",
        "condition_2 = height_1 - height_3\n",
        "condition_3 = height_2 - height_3\n",
        "\n",
        "if condition_1 > 0:\n",
        "  print (f\"{height_1} is greater than {height_2}\")\n",
        "else:\n",
        "  print (f\"{height_1} is less than {height_2}\")\n",
        "if height_1 > height_2:\n",
        "  print (condition_2)\n",
        "if condition_2 > 0:\n",
        "  print (f\"The three heights from largest to smallest is: {height_1} , {height_2} , {height_3}\")\n",
        "\n",
        "\n",
        "\n"
      ],
      "execution_count": null,
      "outputs": [
        {
          "output_type": "stream",
          "text": [
            "Enter first height in cm: 35\n",
            "Enter second height in cm: 34\n",
            "Enter third height in cm: 32\n",
            "35 is greater than 34\n",
            "3\n",
            "The three heights from largest to smallest is: 35 , 34 , 32\n"
          ],
          "name": "stdout"
        }
      ]
    },
    {
      "cell_type": "markdown",
      "metadata": {
        "id": "gW6Nv5dtpAEh"
      },
      "source": [
        "② Create a program that calculates the tax for a salary entered by the user following the table below"
      ]
    },
    {
      "cell_type": "code",
      "metadata": {
        "id": "ZwobzpugpBhP"
      },
      "source": [
        ""
      ],
      "execution_count": null,
      "outputs": []
    },
    {
      "cell_type": "markdown",
      "metadata": {
        "id": "pD4u1ihpHAt0"
      },
      "source": [
        "1. create a program to calculate the shortest distance between cities. the user inputs x, y coordinates. "
      ]
    },
    {
      "cell_type": "code",
      "metadata": {
        "colab": {
          "base_uri": "https://localhost:8080/"
        },
        "id": "_HiFXdA6HetU",
        "outputId": "a6734002-8187-42ad-984d-1c42e5e2fdc9"
      },
      "source": [
        "name = [\"Tokyo\", \"Moscow\", \"Ho Chi Minh\", \"Hong Kong\"]\n",
        "x = [1, 8, 5, 7]\n",
        "y = [3, 1, 3, 2]\n",
        "\n",
        "d = [ ]\n",
        "#tokyo to ___\n",
        "for i in range (1, 4):\n",
        "  \n",
        "  distance = ((x[0] - x[i])**2 + (y[0] - y[i])**2)**(1/2)\n",
        "  d.append(distance)\n",
        "  print(f\"Checking the distance between {name[0]} and {name[i]}: {distance}\")\n",
        "\n",
        "print(d)"
      ],
      "execution_count": null,
      "outputs": [
        {
          "output_type": "stream",
          "name": "stdout",
          "text": [
            "Checking the distance between Tokyo and Moscow: 7.280109889280518\n",
            "Checking the distance between Tokyo and Ho Chi Minh: 4.0\n",
            "Checking the distance between Tokyo and Hong Kong: 6.082762530298219\n",
            "[7.280109889280518, 4.0, 6.082762530298219]\n"
          ]
        }
      ]
    }
  ]
}