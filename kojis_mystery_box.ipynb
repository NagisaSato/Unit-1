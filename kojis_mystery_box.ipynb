{
  "nbformat": 4,
  "nbformat_minor": 0,
  "metadata": {
    "colab": {
      "name": "kojis_mystery_box.ipynb",
      "provenance": [],
      "authorship_tag": "ABX9TyPyw4xCyub424cxSVt4I8O9",
      "include_colab_link": true
    },
    "kernelspec": {
      "name": "python3",
      "display_name": "Python 3"
    },
    "language_info": {
      "name": "python"
    }
  },
  "cells": [
    {
      "cell_type": "markdown",
      "metadata": {
        "id": "view-in-github",
        "colab_type": "text"
      },
      "source": [
        "<a href=\"https://colab.research.google.com/github/NagisaSato/Unit-1/blob/main/kojis_mystery_box.ipynb\" target=\"_parent\"><img src=\"https://colab.research.google.com/assets/colab-badge.svg\" alt=\"Open In Colab\"/></a>"
      ]
    },
    {
      "cell_type": "code",
      "metadata": {
        "colab": {
          "base_uri": "https://localhost:8080/"
        },
        "id": "CwFeGqdpcro5",
        "outputId": "40f516b7-eb3f-42d8-bd62-872ac139b9d4"
      },
      "source": [
        "def conv(input1):\n",
        "  output1 = \"\"\n",
        "  if input1 == 1:\n",
        "    output1 += \"J\"\n",
        "  if input1 == 2:\n",
        "    output1 += \"F\"\n",
        "  if input1 == 3:\n",
        "    output1 += \"M\"\n",
        "  if input1 == 4:\n",
        "    output1 += \"A\"\n",
        "  if input1 == 5:\n",
        "    output1 += \"M\"\n",
        "  if input1 == 6:\n",
        "    output1 += \"J\"\n",
        "  if input1 == 7:\n",
        "    output1 += \"J\"\n",
        "  if input1 == 8:\n",
        "    output1 += \"A\"\n",
        "  if input1 == 9:\n",
        "    output1 += \"S\"\n",
        "  if input1 == 10:\n",
        "    output1 += \"O\"\n",
        "  if input1 == 11:\n",
        "    output1 += \"N\"\n",
        "  if input1 == 12:\n",
        "    output1 += \"D\"\n",
        "  if input1 > 12:\n",
        "    output1 = \"False\"\n",
        "  return output1\n",
        "\n",
        "output1 = conv(10)\n",
        "print(output1)"
      ],
      "execution_count": 2,
      "outputs": [
        {
          "output_type": "stream",
          "name": "stdout",
          "text": [
            "O\n"
          ]
        }
      ]
    }
  ]
}