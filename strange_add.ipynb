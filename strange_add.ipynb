{
  "nbformat": 4,
  "nbformat_minor": 0,
  "metadata": {
    "colab": {
      "name": "strange_add",
      "provenance": [],
      "authorship_tag": "ABX9TyOBrhzQcrj9rgSToGbLwcVc",
      "include_colab_link": true
    },
    "kernelspec": {
      "name": "python3",
      "display_name": "Python 3"
    },
    "language_info": {
      "name": "python"
    }
  },
  "cells": [
    {
      "cell_type": "markdown",
      "metadata": {
        "id": "view-in-github",
        "colab_type": "text"
      },
      "source": [
        "<a href=\"https://colab.research.google.com/github/NagisaSato/Unit-1/blob/main/strange_add.ipynb\" target=\"_parent\"><img src=\"https://colab.research.google.com/assets/colab-badge.svg\" alt=\"Open In Colab\"/></a>"
      ]
    },
    {
      "cell_type": "code",
      "metadata": {
        "colab": {
          "base_uri": "https://localhost:8080/"
        },
        "id": "6g8gxgN4MNED",
        "outputId": "46c8bdd8-79dc-41a1-cf03-5c605e8fd638"
      },
      "source": [
        "def strange_add(a,b):\n",
        "  if (a + b) % 2 == 0:\n",
        "    n= a + b\n",
        "  else:\n",
        "    n=0\n",
        "  return n\n",
        "\n",
        "add=strange_add(5,5)\n",
        "print(add)\n",
        "\n",
        "\n",
        "\n",
        "\n",
        "\n"
      ],
      "execution_count": null,
      "outputs": [
        {
          "output_type": "stream",
          "name": "stdout",
          "text": [
            "10\n"
          ]
        }
      ]
    },
    {
      "cell_type": "code",
      "metadata": {
        "colab": {
          "base_uri": "https://localhost:8080/"
        },
        "id": "w4azXp0EOson",
        "outputId": "e3459913-9c0e-4c93-8371-39b1f26a0e96"
      },
      "source": [
        "output = strange_add(strange_add(5,11), strange_add(10,2))\n",
        "print(output)\n",
        "\n",
        "\n",
        "\n",
        "\n",
        "\n"
      ],
      "execution_count": null,
      "outputs": [
        {
          "output_type": "stream",
          "name": "stdout",
          "text": [
            "28\n"
          ]
        }
      ]
    }
  ]
}