{
  "nbformat": 4,
  "nbformat_minor": 0,
  "metadata": {
    "colab": {
      "name": "print_1_to_age.ipynb",
      "provenance": [],
      "authorship_tag": "ABX9TyOfCFa7QTUBFW39HLZ5LkUv",
      "include_colab_link": true
    },
    "kernelspec": {
      "name": "python3",
      "display_name": "Python 3"
    },
    "language_info": {
      "name": "python"
    }
  },
  "cells": [
    {
      "cell_type": "markdown",
      "metadata": {
        "id": "view-in-github",
        "colab_type": "text"
      },
      "source": [
        "<a href=\"https://colab.research.google.com/github/NagisaSato/Unit-1/blob/main/print_1_to_age.ipynb\" target=\"_parent\"><img src=\"https://colab.research.google.com/assets/colab-badge.svg\" alt=\"Open In Colab\"/></a>"
      ]
    },
    {
      "cell_type": "code",
      "metadata": {
        "colab": {
          "base_uri": "https://localhost:8080/"
        },
        "id": "z1NSeMrX-Eo4",
        "outputId": "ebee7c95-0326-432f-a96f-dc0d912a4314"
      },
      "source": [
        "def rangePattern(n):\n",
        "  result = \"\"\n",
        "  counter = 0\n",
        "  for i in range (100):\n",
        "    if counter == n - 1:\n",
        "      counter = 0\n",
        "    else:\n",
        "      counter += 1\n",
        "    result += str(i % n + 1) + \",\"\n",
        "  return result \n",
        "\n",
        "\n",
        "x=rangePattern(5)\n",
        "print(x)\n",
        "\n"
      ],
      "execution_count": 4,
      "outputs": [
        {
          "output_type": "stream",
          "name": "stdout",
          "text": [
            "1,2,3,4,5,1,2,3,4,5,1,2,3,4,5,1,2,3,4,5,1,2,3,4,5,1,2,3,4,5,1,2,3,4,5,1,2,3,4,5,1,2,3,4,5,1,2,3,4,5,1,2,3,4,5,1,2,3,4,5,1,2,3,4,5,1,2,3,4,5,1,2,3,4,5,1,2,3,4,5,1,2,3,4,5,1,2,3,4,5,1,2,3,4,5,1,2,3,4,5,\n"
          ]
        }
      ]
    }
  ]
}