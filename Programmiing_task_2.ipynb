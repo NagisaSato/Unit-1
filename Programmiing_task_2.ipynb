{
  "nbformat": 4,
  "nbformat_minor": 0,
  "metadata": {
    "colab": {
      "name": "Programmiing task_2",
      "provenance": [],
      "authorship_tag": "ABX9TyOrKANBm0nYh6CB9Y5s6LzG",
      "include_colab_link": true
    },
    "kernelspec": {
      "name": "python3",
      "display_name": "Python 3"
    },
    "language_info": {
      "name": "python"
    }
  },
  "cells": [
    {
      "cell_type": "markdown",
      "metadata": {
        "id": "view-in-github",
        "colab_type": "text"
      },
      "source": [
        "<a href=\"https://colab.research.google.com/github/NagisaSato/Unit-1/blob/main/Programmiing_task_2.ipynb\" target=\"_parent\"><img src=\"https://colab.research.google.com/assets/colab-badge.svg\" alt=\"Open In Colab\"/></a>"
      ]
    },
    {
      "cell_type": "markdown",
      "metadata": {
        "id": "AuINaUDgaYSm"
      },
      "source": [
        "Programming Task 2: Create a file in your repository with name programming_task_2.md and include the solution to the problem below:\n",
        "Strange Numbers: Given a number as a String N. Multiply all of its digits, and repeat the same with the product obtained till the product consists of only one digit. Output the number of steps taken to do so. \n",
        "\n",
        "Example: N = 39\n",
        "Step 1: 3 * 9 = 27\n",
        "Step 2: 2 * 7 = 14\n",
        "Step 3: 1 * 4 = 4\n",
        "\n",
        "Since it took us 3 steps to reach a number with only 1 digit, the output is 3.\n",
        "\n"
      ]
    },
    {
      "cell_type": "code",
      "metadata": {
        "id": "9dMEGT4MaUd8",
        "colab": {
          "base_uri": "https://localhost:8080/"
        },
        "outputId": "801ab708-dac4-404b-d2f7-f62aad4d94b0"
      },
      "source": [
        "def multiply_digit(num:int):\n",
        "  mul = 1\n",
        "  while num // 10 > 0:\n",
        "    res = num % 10\n",
        "    div = num // 10\n",
        "    mul *= res \n",
        "    num = div\n",
        "  return mul*num\n",
        "\n",
        "a = multiply_digit(2020)\n",
        "print(a)\n",
        "\n",
        "\n",
        "\n"
      ],
      "execution_count": 30,
      "outputs": [
        {
          "output_type": "stream",
          "name": "stdout",
          "text": [
            "0\n"
          ]
        }
      ]
    },
    {
      "cell_type": "code",
      "metadata": {
        "colab": {
          "base_uri": "https://localhost:8080/"
        },
        "id": "F9anTdoDP0vR",
        "outputId": "4c65baf9-0146-4444-b87d-7d024daf1793"
      },
      "source": [
        "def count_steps(num:int):\n",
        "  steps = 0\n",
        "  while num >10:\n",
        "    num = multiply_digit(num)\n",
        "    steps += 1\n",
        "  return steps\n",
        "\n",
        "b = count_steps(1379)\n",
        "print(b)\n"
      ],
      "execution_count": 31,
      "outputs": [
        {
          "output_type": "stream",
          "name": "stdout",
          "text": [
            "4\n"
          ]
        }
      ]
    },
    {
      "cell_type": "markdown",
      "metadata": {
        "id": "8s6Mk6wQSNMJ"
      },
      "source": [
        "[HL]  Programming Task 3: Create a file in your repository with name programming_task_3.md and include the solution to the problem below:\n",
        "Using the program you created in Task 2, create a program that searches automatically for strange numbers. Can you find a number that will take 10 steps or more? "
      ]
    },
    {
      "cell_type": "code",
      "metadata": {
        "id": "ktVZIIXyVJd4"
      },
      "source": [
        "num = 984537459837\n",
        "steps = 1\n",
        "while steps < 10:\n",
        "  print(num, \"required\", steps)\n",
        "  steps = count_steps(num)\n",
        "  num += 1"
      ],
      "execution_count": null,
      "outputs": []
    }
  ]
}