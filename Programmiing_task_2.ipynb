{
  "nbformat": 4,
  "nbformat_minor": 0,
  "metadata": {
    "colab": {
      "name": "Programmiing task_2",
      "provenance": [],
      "authorship_tag": "ABX9TyOhvwvrvEy/hP3EJejDtwQw",
      "include_colab_link": true
    },
    "kernelspec": {
      "name": "python3",
      "display_name": "Python 3"
    },
    "language_info": {
      "name": "python"
    }
  },
  "cells": [
    {
      "cell_type": "markdown",
      "metadata": {
        "id": "view-in-github",
        "colab_type": "text"
      },
      "source": [
        "<a href=\"https://colab.research.google.com/github/NagisaSato/Unit-1/blob/main/Programmiing_task_2.ipynb\" target=\"_parent\"><img src=\"https://colab.research.google.com/assets/colab-badge.svg\" alt=\"Open In Colab\"/></a>"
      ]
    },
    {
      "cell_type": "markdown",
      "metadata": {
        "id": "AuINaUDgaYSm"
      },
      "source": [
        "Programming Task 2: Create a file in your repository with name programming_task_2.md and include the solution to the problem below:\n",
        "Strange Numbers: Given a number as a String N. Multiply all of its digits, and repeat the same with the product obtained till the product consists of only one digit. Output the number of steps taken to do so. \n",
        "\n",
        "Example: N = 39\n",
        "Step 1: 3 * 9 = 27\n",
        "Step 2: 2 * 7 = 14\n",
        "Step 3: 1 * 4 = 4\n",
        "\n",
        "Since it took us 3 steps to reach a number with only 1 digit, the output is 3.\n",
        "\n"
      ]
    },
    {
      "cell_type": "code",
      "metadata": {
        "id": "9dMEGT4MaUd8",
        "colab": {
          "base_uri": "https://localhost:8080/"
        },
        "outputId": "67f37573-56e5-410d-abe9-f01ab9950b96"
      },
      "source": [
        "def task_2(num:int):\n",
        "  steps = 1\n",
        "  while num // 10 > 10:\n",
        "    res = num % 10\n",
        "    div = num // 10\n",
        "    num = div\n",
        "    steps += 1\n",
        "  return steps\n",
        "\n",
        "a = task_2(1373)\n",
        "print(a)\n",
        "\n",
        "\n",
        "\n"
      ],
      "execution_count": 7,
      "outputs": [
        {
          "output_type": "stream",
          "name": "stdout",
          "text": [
            "3\n"
          ]
        }
      ]
    }
  ]
}