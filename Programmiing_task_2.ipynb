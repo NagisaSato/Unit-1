{
  "nbformat": 4,
  "nbformat_minor": 0,
  "metadata": {
    "colab": {
      "name": "Programmiing task_2",
      "provenance": [],
      "authorship_tag": "ABX9TyOiuYYve0+3wtgmuVNzrK3k",
      "include_colab_link": true
    },
    "kernelspec": {
      "name": "python3",
      "display_name": "Python 3"
    },
    "language_info": {
      "name": "python"
    }
  },
  "cells": [
    {
      "cell_type": "markdown",
      "metadata": {
        "id": "view-in-github",
        "colab_type": "text"
      },
      "source": [
        "<a href=\"https://colab.research.google.com/github/NagisaSato/Unit-1/blob/main/Programmiing_task_2.ipynb\" target=\"_parent\"><img src=\"https://colab.research.google.com/assets/colab-badge.svg\" alt=\"Open In Colab\"/></a>"
      ]
    },
    {
      "cell_type": "markdown",
      "metadata": {
        "id": "AuINaUDgaYSm"
      },
      "source": [
        "Programming Task 2: Create a file in your repository with name programming_task_2.md and include the solution to the problem below:\n",
        "Strange Numbers: Given a number as a String N. Multiply all of its digits, and repeat the same with the product obtained till the product consists of only one digit. Output the number of steps taken to do so. \n",
        "\n",
        "Example: N = 39\n",
        "Step 1: 3 * 9 = 27\n",
        "Step 2: 2 * 7 = 14\n",
        "Step 3: 1 * 4 = 4\n",
        "\n",
        "Since it took us 3 steps to reach a number with only 1 digit, the output is 3.\n",
        "\n"
      ]
    },
    {
      "cell_type": "code",
      "metadata": {
        "id": "9dMEGT4MaUd8",
        "colab": {
          "base_uri": "https://localhost:8080/"
        },
        "outputId": "4bbe9880-927f-4a89-fd5c-6b64c855a427"
      },
      "source": [
        "def multiply_digit(num:int):\n",
        "  mul = 1\n",
        "  while num // 10 > 0:\n",
        "    res = num % 10\n",
        "    div = num // 10\n",
        "    mul *= res \n",
        "    num = div\n",
        "    print(res, div, mul)\n",
        "  return mul*num\n",
        "\n",
        "a = multiply_digit(2020)\n",
        "print(a)\n",
        "\n",
        "\n",
        "\n"
      ],
      "execution_count": 28,
      "outputs": [
        {
          "output_type": "stream",
          "name": "stdout",
          "text": [
            "0 202 0\n",
            "2 20 0\n",
            "0 2 0\n",
            "0\n"
          ]
        }
      ]
    },
    {
      "cell_type": "code",
      "metadata": {
        "colab": {
          "base_uri": "https://localhost:8080/"
        },
        "id": "F9anTdoDP0vR",
        "outputId": "6572fa14-f98f-432c-e55a-9ca3201cb38c"
      },
      "source": [
        "def count_steps(num:int):\n",
        "  steps = 0\n",
        "  while num >10:\n",
        "    num = multiply_digit(num)\n",
        "    steps += 1\n",
        "  return steps\n",
        "\n",
        "b = count_steps(1379)\n",
        "print(b)\n"
      ],
      "execution_count": 27,
      "outputs": [
        {
          "output_type": "stream",
          "name": "stdout",
          "text": [
            "9 137 9\n",
            "7 13 63\n",
            "3 1 189\n",
            "8 37 8\n",
            "7 3 56\n",
            "2 11 2\n",
            "1 1 2\n",
            "3\n"
          ]
        }
      ]
    }
  ]
}