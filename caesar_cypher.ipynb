{
  "nbformat": 4,
  "nbformat_minor": 0,
  "metadata": {
    "colab": {
      "name": "caesar cypher",
      "provenance": [],
      "authorship_tag": "ABX9TyMIArbWAEMwbQniBGIEdtNt",
      "include_colab_link": true
    },
    "kernelspec": {
      "name": "python3",
      "display_name": "Python 3"
    },
    "language_info": {
      "name": "python"
    }
  },
  "cells": [
    {
      "cell_type": "markdown",
      "metadata": {
        "id": "view-in-github",
        "colab_type": "text"
      },
      "source": [
        "<a href=\"https://colab.research.google.com/github/NagisaSato/Unit-1/blob/main/caesar_cypher.ipynb\" target=\"_parent\"><img src=\"https://colab.research.google.com/assets/colab-badge.svg\" alt=\"Open In Colab\"/></a>"
      ]
    },
    {
      "cell_type": "code",
      "metadata": {
        "colab": {
          "base_uri": "https://localhost:8080/"
        },
        "id": "HlO-6RA2OmUI",
        "outputId": "0b8b8ce7-6ef8-4c32-d5da-b5d772535a5c"
      },
      "source": [
        "def secret_encoder(key: int, message: str):\n",
        "  ''' \n",
        "  :param key: thie shift of the caesar cypher\n",
        "  :param message: message that we need to encode\n",
        "  :return: secret_message\n",
        "  '''\n",
        "  secret_message=\"\"\n",
        "  for idx in range(len(message)):\n",
        "    letter = message[idx]\n",
        "    code = ord(letter) + key \n",
        "    if code > 122:\n",
        "      code -= 26\n",
        "    encoded_letter = chr(code)\n",
        "      #use concaternation to rebuild the message \n",
        "    secret_message += encoded_letter\n",
        "\n",
        "  return secret_message \n",
        "\n",
        "code = secret_encoder(3, \"nagisa\")\n",
        "print(code)\n"
      ],
      "execution_count": 12,
      "outputs": [
        {
          "output_type": "stream",
          "name": "stdout",
          "text": [
            "qdjlvd\n"
          ]
        }
      ]
    }
  ]
}